{
 "cells": [
  {
   "cell_type": "code",
   "execution_count": 25,
   "id": "226ef207",
   "metadata": {},
   "outputs": [
    {
     "name": "stdout",
     "output_type": "stream",
     "text": [
      "Collecting git+https://github.com/xinntao/Real-ESRGAN.git\n",
      "  Cloning https://github.com/xinntao/Real-ESRGAN.git to /tmp/pip-req-build-mcqf9196\n",
      "  Running command git clone -q https://github.com/xinntao/Real-ESRGAN.git /tmp/pip-req-build-mcqf9196\n",
      "Requirement already satisfied: Pillow in ./venv/lib/python3.8/site-packages (from realesrgan==0.2.2.4) (8.3.2)\n",
      "Requirement already satisfied: basicsr>=1.3.3.11 in ./venv/lib/python3.8/site-packages (from realesrgan==0.2.2.4) (1.3.4.4)\n",
      "Requirement already satisfied: facexlib>=0.2.0.3 in ./venv/lib/python3.8/site-packages (from realesrgan==0.2.2.4) (0.2.1.0)\n",
      "Requirement already satisfied: gfpgan>=0.2.1 in ./venv/lib/python3.8/site-packages (from realesrgan==0.2.2.4) (0.2.1)\n",
      "Requirement already satisfied: numpy in ./venv/lib/python3.8/site-packages (from realesrgan==0.2.2.4) (1.20.1)\n",
      "Requirement already satisfied: opencv-python in ./venv/lib/python3.8/site-packages (from realesrgan==0.2.2.4) (4.5.3.56)\n",
      "Requirement already satisfied: torch>=1.7 in ./venv/lib/python3.8/site-packages (from realesrgan==0.2.2.4) (1.9.1)\n",
      "Requirement already satisfied: torchvision in ./venv/lib/python3.8/site-packages (from realesrgan==0.2.2.4) (0.10.1)\n",
      "Requirement already satisfied: tqdm in ./venv/lib/python3.8/site-packages (from realesrgan==0.2.2.4) (4.62.3)\n",
      "Requirement already satisfied: addict in ./venv/lib/python3.8/site-packages (from basicsr>=1.3.3.11->realesrgan==0.2.2.4) (2.4.0)\n",
      "Requirement already satisfied: scipy in ./venv/lib/python3.8/site-packages (from basicsr>=1.3.3.11->realesrgan==0.2.2.4) (1.7.1)\n",
      "Requirement already satisfied: scikit-image in ./venv/lib/python3.8/site-packages (from basicsr>=1.3.3.11->realesrgan==0.2.2.4) (0.18.3)\n",
      "Requirement already satisfied: pyyaml in ./venv/lib/python3.8/site-packages (from basicsr>=1.3.3.11->realesrgan==0.2.2.4) (5.4.1)\n",
      "Requirement already satisfied: tb-nightly in ./venv/lib/python3.8/site-packages (from basicsr>=1.3.3.11->realesrgan==0.2.2.4) (2.7.0a20211009)\n",
      "Requirement already satisfied: requests in ./venv/lib/python3.8/site-packages (from basicsr>=1.3.3.11->realesrgan==0.2.2.4) (2.26.0)\n",
      "Requirement already satisfied: yapf in ./venv/lib/python3.8/site-packages (from basicsr>=1.3.3.11->realesrgan==0.2.2.4) (0.31.0)\n",
      "Requirement already satisfied: future in ./venv/lib/python3.8/site-packages (from basicsr>=1.3.3.11->realesrgan==0.2.2.4) (0.18.2)\n",
      "Requirement already satisfied: lmdb in ./venv/lib/python3.8/site-packages (from basicsr>=1.3.3.11->realesrgan==0.2.2.4) (1.2.1)\n",
      "Requirement already satisfied: filterpy in ./venv/lib/python3.8/site-packages (from facexlib>=0.2.0.3->realesrgan==0.2.2.4) (1.4.5)\n",
      "Requirement already satisfied: numba in ./venv/lib/python3.8/site-packages (from facexlib>=0.2.0.3->realesrgan==0.2.2.4) (0.54.1)\n",
      "Requirement already satisfied: typing-extensions in ./venv/lib/python3.8/site-packages (from torch>=1.7->realesrgan==0.2.2.4) (3.10.0.2)\n",
      "Requirement already satisfied: tifffile>=2019.7.26 in ./venv/lib/python3.8/site-packages (from scikit-image->basicsr>=1.3.3.11->realesrgan==0.2.2.4) (2021.8.30)\n",
      "Requirement already satisfied: matplotlib!=3.0.0,>=2.0.0 in ./venv/lib/python3.8/site-packages (from scikit-image->basicsr>=1.3.3.11->realesrgan==0.2.2.4) (3.4.3)\n",
      "Requirement already satisfied: networkx>=2.0 in ./venv/lib/python3.8/site-packages (from scikit-image->basicsr>=1.3.3.11->realesrgan==0.2.2.4) (2.6.3)\n",
      "Requirement already satisfied: PyWavelets>=1.1.1 in ./venv/lib/python3.8/site-packages (from scikit-image->basicsr>=1.3.3.11->realesrgan==0.2.2.4) (1.1.1)\n",
      "Requirement already satisfied: imageio>=2.3.0 in ./venv/lib/python3.8/site-packages (from scikit-image->basicsr>=1.3.3.11->realesrgan==0.2.2.4) (2.9.0)\n",
      "Requirement already satisfied: google-auth<3,>=1.6.3 in ./venv/lib/python3.8/site-packages (from tb-nightly->basicsr>=1.3.3.11->realesrgan==0.2.2.4) (2.3.0)\n",
      "Requirement already satisfied: setuptools>=41.0.0 in ./venv/lib/python3.8/site-packages (from tb-nightly->basicsr>=1.3.3.11->realesrgan==0.2.2.4) (44.0.0)\n",
      "Requirement already satisfied: markdown>=2.6.8 in ./venv/lib/python3.8/site-packages (from tb-nightly->basicsr>=1.3.3.11->realesrgan==0.2.2.4) (3.3.4)\n",
      "Requirement already satisfied: grpcio>=1.24.3 in ./venv/lib/python3.8/site-packages (from tb-nightly->basicsr>=1.3.3.11->realesrgan==0.2.2.4) (1.41.0)\n",
      "Requirement already satisfied: werkzeug>=0.11.15 in ./venv/lib/python3.8/site-packages (from tb-nightly->basicsr>=1.3.3.11->realesrgan==0.2.2.4) (2.0.2)\n",
      "Requirement already satisfied: tensorboard-data-server<0.7.0,>=0.6.0 in ./venv/lib/python3.8/site-packages (from tb-nightly->basicsr>=1.3.3.11->realesrgan==0.2.2.4) (0.6.1)\n",
      "Requirement already satisfied: wheel>=0.26 in ./venv/lib/python3.8/site-packages (from tb-nightly->basicsr>=1.3.3.11->realesrgan==0.2.2.4) (0.34.2)\n",
      "Requirement already satisfied: tensorboard-plugin-wit>=1.6.0 in ./venv/lib/python3.8/site-packages (from tb-nightly->basicsr>=1.3.3.11->realesrgan==0.2.2.4) (1.8.0)\n",
      "Requirement already satisfied: absl-py>=0.4 in ./venv/lib/python3.8/site-packages (from tb-nightly->basicsr>=1.3.3.11->realesrgan==0.2.2.4) (0.14.1)\n",
      "Requirement already satisfied: google-auth-oauthlib<0.5,>=0.4.1 in ./venv/lib/python3.8/site-packages (from tb-nightly->basicsr>=1.3.3.11->realesrgan==0.2.2.4) (0.4.6)\n",
      "Requirement already satisfied: protobuf>=3.6.0 in ./venv/lib/python3.8/site-packages (from tb-nightly->basicsr>=1.3.3.11->realesrgan==0.2.2.4) (3.18.1)\n",
      "Requirement already satisfied: certifi>=2017.4.17 in ./venv/lib/python3.8/site-packages (from requests->basicsr>=1.3.3.11->realesrgan==0.2.2.4) (2021.10.8)\n",
      "Requirement already satisfied: urllib3<1.27,>=1.21.1 in ./venv/lib/python3.8/site-packages (from requests->basicsr>=1.3.3.11->realesrgan==0.2.2.4) (1.26.7)\n",
      "Requirement already satisfied: idna<4,>=2.5; python_version >= \"3\" in ./venv/lib/python3.8/site-packages (from requests->basicsr>=1.3.3.11->realesrgan==0.2.2.4) (3.2)\n",
      "Requirement already satisfied: charset-normalizer~=2.0.0; python_version >= \"3\" in ./venv/lib/python3.8/site-packages (from requests->basicsr>=1.3.3.11->realesrgan==0.2.2.4) (2.0.6)\n",
      "Requirement already satisfied: llvmlite<0.38,>=0.37.0rc1 in ./venv/lib/python3.8/site-packages (from numba->facexlib>=0.2.0.3->realesrgan==0.2.2.4) (0.37.0)\n",
      "Requirement already satisfied: python-dateutil>=2.7 in ./venv/lib/python3.8/site-packages (from matplotlib!=3.0.0,>=2.0.0->scikit-image->basicsr>=1.3.3.11->realesrgan==0.2.2.4) (2.8.2)\n",
      "Requirement already satisfied: cycler>=0.10 in ./venv/lib/python3.8/site-packages (from matplotlib!=3.0.0,>=2.0.0->scikit-image->basicsr>=1.3.3.11->realesrgan==0.2.2.4) (0.10.0)\n",
      "Requirement already satisfied: pyparsing>=2.2.1 in ./venv/lib/python3.8/site-packages (from matplotlib!=3.0.0,>=2.0.0->scikit-image->basicsr>=1.3.3.11->realesrgan==0.2.2.4) (2.4.7)\n",
      "Requirement already satisfied: kiwisolver>=1.0.1 in ./venv/lib/python3.8/site-packages (from matplotlib!=3.0.0,>=2.0.0->scikit-image->basicsr>=1.3.3.11->realesrgan==0.2.2.4) (1.3.2)\n",
      "Requirement already satisfied: cachetools<5.0,>=2.0.0 in ./venv/lib/python3.8/site-packages (from google-auth<3,>=1.6.3->tb-nightly->basicsr>=1.3.3.11->realesrgan==0.2.2.4) (4.2.4)\n",
      "Requirement already satisfied: rsa<5,>=3.1.4 in ./venv/lib/python3.8/site-packages (from google-auth<3,>=1.6.3->tb-nightly->basicsr>=1.3.3.11->realesrgan==0.2.2.4) (4.7.2)\n",
      "Requirement already satisfied: pyasn1-modules>=0.2.1 in ./venv/lib/python3.8/site-packages (from google-auth<3,>=1.6.3->tb-nightly->basicsr>=1.3.3.11->realesrgan==0.2.2.4) (0.2.8)\n",
      "Requirement already satisfied: six>=1.5.2 in ./venv/lib/python3.8/site-packages (from grpcio>=1.24.3->tb-nightly->basicsr>=1.3.3.11->realesrgan==0.2.2.4) (1.16.0)\n",
      "Requirement already satisfied: requests-oauthlib>=0.7.0 in ./venv/lib/python3.8/site-packages (from google-auth-oauthlib<0.5,>=0.4.1->tb-nightly->basicsr>=1.3.3.11->realesrgan==0.2.2.4) (1.3.0)\n",
      "Requirement already satisfied: pyasn1>=0.1.3 in ./venv/lib/python3.8/site-packages (from rsa<5,>=3.1.4->google-auth<3,>=1.6.3->tb-nightly->basicsr>=1.3.3.11->realesrgan==0.2.2.4) (0.4.8)\n",
      "Requirement already satisfied: oauthlib>=3.0.0 in ./venv/lib/python3.8/site-packages (from requests-oauthlib>=0.7.0->google-auth-oauthlib<0.5,>=0.4.1->tb-nightly->basicsr>=1.3.3.11->realesrgan==0.2.2.4) (3.1.1)\n",
      "Building wheels for collected packages: realesrgan\n"
     ]
    },
    {
     "name": "stdout",
     "output_type": "stream",
     "text": [
      "  Building wheel for realesrgan (setup.py) ... \u001b[?25ldone\n",
      "\u001b[?25h  Created wheel for realesrgan: filename=realesrgan-0.2.2.4-py3-none-any.whl size=20761 sha256=66ce64df2f0f9e719867c47ccee5eac7e6698a18742f8aa892629be5060fbad5\n",
      "  Stored in directory: /tmp/pip-ephem-wheel-cache-kotsc1kn/wheels/2a/ab/b6/51d1e98d52783774ab14a9317b210cc9c9036ca83a4c6ed3fe\n",
      "Successfully built realesrgan\n",
      "Installing collected packages: realesrgan\n",
      "Successfully installed realesrgan-0.2.2.4\n"
     ]
    }
   ],
   "source": [
    "!pip install git+https://github.com/xinntao/Real-ESRGAN.git"
   ]
  },
  {
   "cell_type": "code",
   "execution_count": 24,
   "id": "2983fc28",
   "metadata": {},
   "outputs": [],
   "source": [
    "!pip install git+https://github.com/xinntao/Real-ESRGAN.git"
   ]
  },
  {
   "cell_type": "code",
   "execution_count": 1,
   "id": "3f2115e4",
   "metadata": {},
   "outputs": [],
   "source": [
    "import argparse\n",
    "import cv2\n",
    "import glob\n",
    "import os\n",
    "from basicsr.archs.rrdbnet_arch import RRDBNet\n",
    "from tqdm import tqdm\n",
    "from realesrgan import RealESRGANer\n",
    "import numpy as np"
   ]
  },
  {
   "cell_type": "code",
   "execution_count": 2,
   "id": "aef42d51",
   "metadata": {},
   "outputs": [],
   "source": [
    "netscale = 4\n",
    "tile = 0\n",
    "tile_pad = 10\n",
    "pre_pad = 0\n",
    "half=\"\"\n",
    "outscale = 4"
   ]
  },
  {
   "cell_type": "code",
   "execution_count": 3,
   "id": "c8d5012b",
   "metadata": {},
   "outputs": [],
   "source": [
    "model = RRDBNet(num_in_ch=3, num_out_ch=3, num_feat=64, num_block=6, num_grow_ch=32, scale=netscale)"
   ]
  },
  {
   "cell_type": "code",
   "execution_count": 4,
   "id": "ba143552",
   "metadata": {},
   "outputs": [],
   "source": [
    "model_path = \"./model/RealESRGAN_x4plus_anime_6B.pth\""
   ]
  },
  {
   "cell_type": "code",
   "execution_count": 5,
   "id": "0741ca4a",
   "metadata": {},
   "outputs": [],
   "source": [
    "upsampler = RealESRGANer(\n",
    "        scale=netscale,\n",
    "        model_path=model_path,\n",
    "        model=model,\n",
    "        tile=tile,\n",
    "        tile_pad=tile_pad,\n",
    "        pre_pad=pre_pad,\n",
    "        half=half)"
   ]
  },
  {
   "cell_type": "code",
   "execution_count": 11,
   "id": "07a58746",
   "metadata": {},
   "outputs": [],
   "source": [
    "import skvideo.io"
   ]
  },
  {
   "cell_type": "code",
   "execution_count": 12,
   "id": "12157aed",
   "metadata": {},
   "outputs": [],
   "source": [
    "videodata = skvideo.io.vread(\"akira.mp4\")"
   ]
  },
  {
   "cell_type": "code",
   "execution_count": 13,
   "id": "c1c99f46",
   "metadata": {},
   "outputs": [
    {
     "name": "stdout",
     "output_type": "stream",
     "text": [
      "Разрешение видео: 640 x 360\n"
     ]
    }
   ],
   "source": [
    "frame_width = int(videodata.shape[2])\n",
    "frame_height = int(videodata.shape[1])\n",
    "print(\"Разрешение видео:\", frame_width, \"x\", frame_height)"
   ]
  },
  {
   "cell_type": "code",
   "execution_count": 81,
   "id": "48c3a528",
   "metadata": {},
   "outputs": [
    {
     "name": "stdout",
     "output_type": "stream",
     "text": [
      "Частота кадров: 25.0\n"
     ]
    }
   ],
   "source": [
    "metadata = skvideo.io.ffprobe(\"akira.mp4\")\n",
    "fps = float(metadata[\"video\"]['@r_frame_rate'].split('/')[0])\n",
    "print(\"Частота кадров:\", fps)"
   ]
  },
  {
   "cell_type": "code",
   "execution_count": 82,
   "id": "cb7b7f5a",
   "metadata": {},
   "outputs": [
    {
     "name": "stdout",
     "output_type": "stream",
     "text": [
      "Количестов кадров: 3123\n",
      "Длительность видео (сек): 124.92\n"
     ]
    }
   ],
   "source": [
    "frame_count = videodata.shape[0]\n",
    "print('Количестов кадров:', frame_count)  # float `frame_count`\n",
    "print('Длительность видео (сек):', frame_count/fps)  # float `frame_count`"
   ]
  },
  {
   "cell_type": "code",
   "execution_count": 83,
   "id": "f7ba2914",
   "metadata": {},
   "outputs": [
    {
     "name": "stdout",
     "output_type": "stream",
     "text": [
      "Выходное разрешение видео: 2560 x 1440\n"
     ]
    }
   ],
   "source": [
    "output, _ = upsampler.enhance(videodata[0], outscale=outscale)\n",
    "height = output.shape[0]\n",
    "width = output.shape[1]\n",
    "print(\"Выходное разрешение видео:\", width, \"x\", height)"
   ]
  },
  {
   "cell_type": "code",
   "execution_count": 35,
   "id": "aa765384",
   "metadata": {},
   "outputs": [
    {
     "data": {
      "text/plain": [
       "25.0"
      ]
     },
     "execution_count": 35,
     "metadata": {},
     "output_type": "execute_result"
    }
   ],
   "source": [
    "crf = 17\n",
    "writer = skvideo.io.FFmpegWriter('akira_output_3.avi', \n",
    "            inputdict={'-r': str(fps), '-s':'{}x{}'.format(width,height)},\n",
    "            outputdict={'-r': str(fps), '-c:v': 'libx264', '-crf': str(crf), '-preset': 'veryslow', '-pix_fmt': 'yuv444p'}\n",
    ")"
   ]
  },
  {
   "cell_type": "code",
   "execution_count": 69,
   "id": "7c65e391",
   "metadata": {
    "scrolled": true
   },
   "outputs": [
    {
     "name": "stderr",
     "output_type": "stream",
     "text": [
      "100%|█████████████████████████████████████████████████████████████████████████████████████████████| 3123/3123 [24:52<00:00,  2.09it/s]\n"
     ]
    }
   ],
   "source": [
    "for frame in tqdm(videodata):\n",
    "    output, _ = upsampler.enhance(frame, outscale=outscale)\n",
    "    writer.writeFrame(output)\n",
    "writer.close()"
   ]
  },
  {
   "cell_type": "code",
   "execution_count": null,
   "id": "54821a26",
   "metadata": {},
   "outputs": [],
   "source": [
    "# Так как видео сохраняется без звука, достанем звук из оригинального видео\n",
    "!ffmpeg -i akira.mp4 akira.mp3"
   ]
  },
  {
   "cell_type": "code",
   "execution_count": null,
   "id": "cc024b9b",
   "metadata": {},
   "outputs": [],
   "source": [
    "# И добавим его в наш видос\n",
    "!ffmpeg -i akira_output_3.avi -i akira.mp3 -c copy -map 0:v:0 -map 1:a:0 akira_output_audio.avi"
   ]
  }
 ],
 "metadata": {
  "kernelspec": {
   "display_name": "Python 3 (ipykernel)",
   "language": "python",
   "name": "python3"
  },
  "language_info": {
   "codemirror_mode": {
    "name": "ipython",
    "version": 3
   },
   "file_extension": ".py",
   "mimetype": "text/x-python",
   "name": "python",
   "nbconvert_exporter": "python",
   "pygments_lexer": "ipython3",
   "version": "3.8.10"
  }
 },
 "nbformat": 4,
 "nbformat_minor": 5
}
