{
 "cells": [
  {
   "cell_type": "code",
   "execution_count": 1,
   "id": "3f2115e4",
   "metadata": {},
   "outputs": [],
   "source": [
    "import argparse\n",
    "import cv2\n",
    "import glob\n",
    "import os\n",
    "from basicsr.archs.rrdbnet_arch import RRDBNet\n",
    "from tqdm import tqdm\n",
    "from realesrgan import RealESRGANer\n",
    "import numpy as np"
   ]
  },
  {
   "cell_type": "code",
   "execution_count": 2,
   "id": "aef42d51",
   "metadata": {},
   "outputs": [],
   "source": [
    "netscale = 4\n",
    "tile = 0\n",
    "tile_pad = 10\n",
    "pre_pad = 0\n",
    "half=\"\"\n",
    "outscale = 4 # Во сколько раз увеличить разрешение"
   ]
  },
  {
   "cell_type": "code",
   "execution_count": 3,
   "id": "c8d5012b",
   "metadata": {},
   "outputs": [],
   "source": [
    "model = RRDBNet(num_in_ch=3, num_out_ch=3, num_feat=64, num_block=6, num_grow_ch=32, scale=netscale)"
   ]
  },
  {
   "cell_type": "code",
   "execution_count": 4,
   "id": "ba143552",
   "metadata": {},
   "outputs": [],
   "source": [
    "model_path = \"./model/RealESRGAN_x4plus_anime_6B.pth\""
   ]
  },
  {
   "cell_type": "code",
   "execution_count": 5,
   "id": "0741ca4a",
   "metadata": {},
   "outputs": [],
   "source": [
    "upsampler = RealESRGANer(\n",
    "        scale=netscale,\n",
    "        model_path=model_path,\n",
    "        model=model,\n",
    "        tile=tile,\n",
    "        tile_pad=tile_pad,\n",
    "        pre_pad=pre_pad,\n",
    "        half=half)"
   ]
  },
  {
   "cell_type": "code",
   "execution_count": 11,
   "id": "07a58746",
   "metadata": {},
   "outputs": [],
   "source": [
    "import skvideo.io"
   ]
  },
  {
   "cell_type": "code",
   "execution_count": 12,
   "id": "12157aed",
   "metadata": {},
   "outputs": [],
   "source": [
    "videodata = skvideo.io.vread(\"akira.mp4\")"
   ]
  },
  {
   "cell_type": "code",
   "execution_count": 13,
   "id": "c1c99f46",
   "metadata": {},
   "outputs": [
    {
     "name": "stdout",
     "output_type": "stream",
     "text": [
      "Разрешение видео: 640 x 360\n"
     ]
    }
   ],
   "source": [
    "frame_width = int(videodata.shape[2])\n",
    "frame_height = int(videodata.shape[1])\n",
    "print(\"Разрешение видео:\", frame_width, \"x\", frame_height)"
   ]
  },
  {
   "cell_type": "code",
   "execution_count": 81,
   "id": "48c3a528",
   "metadata": {},
   "outputs": [
    {
     "name": "stdout",
     "output_type": "stream",
     "text": [
      "Частота кадров: 25.0\n"
     ]
    }
   ],
   "source": [
    "metadata = skvideo.io.ffprobe(\"akira.mp4\")\n",
    "fps = float(metadata[\"video\"]['@r_frame_rate'].split('/')[0])\n",
    "print(\"Частота кадров:\", fps)"
   ]
  },
  {
   "cell_type": "code",
   "execution_count": 82,
   "id": "cb7b7f5a",
   "metadata": {},
   "outputs": [
    {
     "name": "stdout",
     "output_type": "stream",
     "text": [
      "Количестов кадров: 3123\n",
      "Длительность видео (сек): 124.92\n"
     ]
    }
   ],
   "source": [
    "frame_count = videodata.shape[0]\n",
    "print('Количестов кадров:', frame_count)  # float `frame_count`\n",
    "print('Длительность видео (сек):', frame_count/fps)  # float `frame_count`"
   ]
  },
  {
   "cell_type": "code",
   "execution_count": 83,
   "id": "f7ba2914",
   "metadata": {},
   "outputs": [
    {
     "name": "stdout",
     "output_type": "stream",
     "text": [
      "Выходное разрешение видео: 2560 x 1440\n"
     ]
    }
   ],
   "source": [
    "output, _ = upsampler.enhance(videodata[0], outscale=outscale)\n",
    "height = output.shape[0]\n",
    "width = output.shape[1]\n",
    "print(\"Выходное разрешение видео:\", width, \"x\", height)"
   ]
  },
  {
   "cell_type": "code",
   "execution_count": 35,
   "id": "aa765384",
   "metadata": {},
   "outputs": [
    {
     "data": {
      "text/plain": [
       "25.0"
      ]
     },
     "execution_count": 35,
     "metadata": {},
     "output_type": "execute_result"
    }
   ],
   "source": [
    "crf = 17\n",
    "writer = skvideo.io.FFmpegWriter('akira_output_3.avi',\n",
    "            inputdict={'-r': str(fps), '-s':'{}x{}'.format(width,height)},\n",
    "            outputdict={'-r': str(fps), '-c:v': 'libx264', '-crf': str(crf), '-preset': 'veryslow', '-pix_fmt': 'yuv444p'}\n",
    ")"
   ]
  },
  {
   "cell_type": "code",
   "execution_count": 69,
   "id": "7c65e391",
   "metadata": {
    "scrolled": true
   },
   "outputs": [
    {
     "name": "stderr",
     "output_type": "stream",
     "text": [
      "100%|█████████████████████████████████████████████████████████████████████████████████████████████| 3123/3123 [24:52<00:00,  2.09it/s]\n"
     ]
    }
   ],
   "source": [
    "for frame in tqdm(videodata):\n",
    "    output, _ = upsampler.enhance(frame, outscale=outscale)\n",
    "    writer.writeFrame(output)\n",
    "writer.close()"
   ]
  },
  {
   "cell_type": "code",
   "execution_count": null,
   "id": "54821a26",
   "metadata": {},
   "outputs": [],
   "source": [
    "# Так как видео сохраняется без звука, достанем звук из оригинального видео\n",
    "!ffmpeg -i akira.mp4 akira.mp3"
   ]
  },
  {
   "cell_type": "code",
   "execution_count": null,
   "id": "cc024b9b",
   "metadata": {},
   "outputs": [],
   "source": [
    "# И добавим его в наш видос\n",
    "!ffmpeg -i akira_output_3.avi -i akira.mp3 -c copy -map 0:v:0 -map 1:a:0 akira_output_audio.avi"
   ]
  }
 ],
 "metadata": {
  "kernelspec": {
   "display_name": "Python 3 (ipykernel)",
   "language": "python",
   "name": "python3"
  },
  "language_info": {
   "codemirror_mode": {
    "name": "ipython",
    "version": 3
   },
   "file_extension": ".py",
   "mimetype": "text/x-python",
   "name": "python",
   "nbconvert_exporter": "python",
   "pygments_lexer": "ipython3",
   "version": "3.8.10"
  }
 },
 "nbformat": 4,
 "nbformat_minor": 5
}