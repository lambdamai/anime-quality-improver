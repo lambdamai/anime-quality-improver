{
 "cells": [
  {
   "cell_type": "code",
   "execution_count": 1,
   "id": "419756b7",
   "metadata": {},
   "outputs": [],
   "source": [
    "import argparse\n",
    "import cv2\n",
    "import glob\n",
    "import os\n",
    "from basicsr.archs.rrdbnet_arch import RRDBNet\n",
    "from tqdm import tqdm\n",
    "from realesrgan import RealESRGANer\n",
    "import numpy as np"
   ]
  },
  {
   "cell_type": "code",
   "execution_count": 10,
   "id": "37acb760",
   "metadata": {},
   "outputs": [],
   "source": [
    "netscale = 4\n",
    "tile = 0\n",
    "tile_pad = 10\n",
    "pre_pad = 0\n",
    "half=\"\"\n",
    "outscale = 6 # Во сколько раз увеличить разрешение"
   ]
  },
  {
   "cell_type": "code",
   "execution_count": 11,
   "id": "ba8e60fd",
   "metadata": {},
   "outputs": [],
   "source": [
    "model = RRDBNet(num_in_ch=3, num_out_ch=3, num_feat=64, num_block=6, num_grow_ch=32, scale=netscale)"
   ]
  },
  {
   "cell_type": "code",
   "execution_count": 12,
   "id": "dfb9638a",
   "metadata": {},
   "outputs": [],
   "source": [
    "model_path = \"./model/RealESRGAN_x4plus_anime_6B.pth\""
   ]
  },
  {
   "cell_type": "code",
   "execution_count": 13,
   "id": "f99849b7",
   "metadata": {},
   "outputs": [],
   "source": [
    "upsampler = RealESRGANer(\n",
    "        scale=netscale,\n",
    "        model_path=model_path,\n",
    "        model=model,\n",
    "        tile=tile,\n",
    "        tile_pad=tile_pad,\n",
    "        pre_pad=pre_pad,\n",
    "        half=half)"
   ]
  },
  {
   "cell_type": "code",
   "execution_count": 14,
   "id": "aa6d20c3",
   "metadata": {},
   "outputs": [
    {
     "data": {
      "text/plain": [
       "True"
      ]
     },
     "execution_count": 14,
     "metadata": {},
     "output_type": "execute_result"
    }
   ],
   "source": [
    "path = \"./example.jpg\"\n",
    "img = cv2.imread(path, cv2.IMREAD_UNCHANGED)\n",
    "output, _ = upsampler.enhance(img, outscale=outscale)\n",
    "cv2.imwrite(\"out.jpg\", output)"
   ]
  },
  {
   "cell_type": "code",
   "execution_count": null,
   "id": "4448c7ce",
   "metadata": {},
   "outputs": [],
   "source": []
  }
 ],
 "metadata": {
  "kernelspec": {
   "display_name": "Python 3 (ipykernel)",
   "language": "python",
   "name": "python3"
  },
  "language_info": {
   "codemirror_mode": {
    "name": "ipython",
    "version": 3
   },
   "file_extension": ".py",
   "mimetype": "text/x-python",
   "name": "python",
   "nbconvert_exporter": "python",
   "pygments_lexer": "ipython3",
   "version": "3.8.10"
  }
 },
 "nbformat": 4,
 "nbformat_minor": 5
}